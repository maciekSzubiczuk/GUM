{
  "metadata": {
    "kernelspec": {
      "language": "python",
      "display_name": "Python 3",
      "name": "python3"
    },
    "language_info": {
      "pygments_lexer": "ipython3",
      "nbconvert_exporter": "python",
      "version": "3.6.4",
      "file_extension": ".py",
      "codemirror_mode": {
        "name": "ipython",
        "version": 3
      },
      "name": "python",
      "mimetype": "text/x-python"
    },
    "kaggle": {
      "accelerator": "gpu",
      "dataSources": [
        {
          "sourceId": 1225,
          "sourceType": "datasetVersion",
          "datasetId": 644
        }
      ],
      "dockerImageVersionId": 30140,
      "isInternetEnabled": true,
      "language": "python",
      "sourceType": "notebook",
      "isGpuEnabled": true
    },
    "colab": {
      "provenance": [],
      "include_colab_link": true
    }
  },
  "nbformat_minor": 0,
  "nbformat": 4,
  "cells": [
    {
      "cell_type": "markdown",
      "metadata": {
        "id": "view-in-github",
        "colab_type": "text"
      },
      "source": [
        "<a href=\"https://colab.research.google.com/github/maciekSzubiczuk/GUM/blob/main/lab2b.ipynb\" target=\"_parent\"><img src=\"https://colab.research.google.com/assets/colab-badge.svg\" alt=\"Open In Colab\"/></a>"
      ]
    },
    {
      "cell_type": "markdown",
      "source": [
        "# Sentiment Analysis Using LSTM"
      ],
      "metadata": {
        "id": "ChsdI5qAdnGy"
      }
    },
    {
      "cell_type": "markdown",
      "source": [
        "# Load The Data"
      ],
      "metadata": {
        "id": "hH6KU7qudnG1"
      }
    },
    {
      "cell_type": "code",
      "source": [
        "from urllib.request import urlretrieve\n",
        "import zipfile\n",
        "\n",
        "\n",
        "amazon_mobile_reviews_url =  \"https://eduds.blob.core.windows.net/nlp/Amazon_Unlocked_Mobile.csv.zip\"\n",
        "filename = \"Amazon_Unlocked_Mobile.csv.zip\"\n",
        "\n",
        "urlretrieve(amazon_mobile_reviews_url, filename)\n",
        "\n",
        "with zipfile.ZipFile(\"/content/Amazon_Unlocked_Mobile.csv.zip\") as zfile:\n",
        "  zfile.extractall()\n"
      ],
      "metadata": {
        "id": "uJAP5mFRanST"
      },
      "execution_count": null,
      "outputs": []
    },
    {
      "cell_type": "code",
      "source": [
        "import pandas as pd\n",
        "df = pd.read_csv(\"/content/Amazon_Unlocked_Mobile.csv\")\n"
      ],
      "metadata": {
        "id": "Z0sU_S1Za11r"
      },
      "execution_count": null,
      "outputs": []
    },
    {
      "cell_type": "code",
      "source": [
        "df\n"
      ],
      "metadata": {
        "id": "M5wtTzdYa2jA"
      },
      "execution_count": null,
      "outputs": []
    },
    {
      "cell_type": "markdown",
      "source": [
        "***Hint***: work with sample drawn from original dataset. When you complete the code of the lab increase the size of the sample."
      ],
      "metadata": {
        "id": "PNdHSF7a3kMt"
      }
    },
    {
      "cell_type": "markdown",
      "source": [
        "# Perform sentiment analysis with  nltk SentimentIntensityAnalyzer\n",
        "\n",
        "Use library:\n",
        "from nltk.sentiment.vader import SentimentIntensityAnalyzer\n",
        "\n",
        "Evaluate results:\n",
        "1. accuracy\n",
        "2. misclasification matrix"
      ],
      "metadata": {
        "id": "2PQ2EJeB8-k-"
      }
    },
    {
      "cell_type": "code",
      "source": [
        "from nltk.sentiment.vader import SentimentIntensityAnalyzer"
      ],
      "metadata": {
        "id": "_lf5-CQ3ZhKN"
      },
      "execution_count": null,
      "outputs": []
    },
    {
      "cell_type": "markdown",
      "source": [
        "# EDA and Data Preprocessing"
      ],
      "metadata": {
        "id": "c7Tap_3GdnG2"
      }
    },
    {
      "cell_type": "markdown",
      "source": [
        "1. Replace   null values in Brand Name with \"Unknown\" value\n",
        "2. Find distribution of Rating (plot histogram)\n",
        "3. Recode Rating  value into Sentiment (Rating >=3 - positive sentiment (1) , Rating  < 3 - negative (0))"
      ],
      "metadata": {
        "id": "HVJQrBCGdnG3"
      }
    },
    {
      "cell_type": "markdown",
      "source": [
        "# Text preprocessing\n",
        "1. Change the words into its root words using spacy\n",
        "2. Remove stopwords (optional)"
      ],
      "metadata": {
        "id": "_ecXh5wxdnG4"
      }
    },
    {
      "cell_type": "markdown",
      "source": [
        "# Tokenizing\n",
        "\n"
      ],
      "metadata": {
        "id": "FKf0iZEJdnG4"
      }
    },
    {
      "cell_type": "markdown",
      "source": [
        "Use Tokenizer to tokenize text\n",
        "\n",
        "Replace value of oov_token is set to be ‘OOV’. That means any unknown words will be replaced by oov_token."
      ],
      "metadata": {
        "id": "6aR4LWojdnG5"
      }
    },
    {
      "cell_type": "code",
      "source": [
        "from tensorflow.keras.preprocessing.text import Tokenizer"
      ],
      "metadata": {
        "id": "3Gfb1pq7Z2uh"
      },
      "execution_count": null,
      "outputs": []
    },
    {
      "cell_type": "markdown",
      "source": [
        "# Padding\n",
        "\n",
        "Pad sequences to maximal length\n",
        "\n"
      ],
      "metadata": {
        "id": "ijQwRpAxdnG5"
      }
    },
    {
      "cell_type": "code",
      "source": [
        "from tensorflow.keras.preprocessing.sequence import pad_sequences"
      ],
      "metadata": {
        "id": "3vdCgSiRaKQM"
      },
      "execution_count": null,
      "outputs": []
    },
    {
      "cell_type": "markdown",
      "source": [
        "# Model Creation"
      ],
      "metadata": {
        "id": "eKdvItvHdnG5"
      }
    },
    {
      "cell_type": "markdown",
      "source": [
        "\n",
        "Model:\n",
        "\n",
        "*   Embedding\n",
        "*   LSTM (30 units)\n",
        "*   Dense (2 layers, 2 x relu, last layer-  sigmoid)\n",
        "\n",
        "Loss function: binary cross entropy , optimizer = 'adam'\n",
        "\n"
      ],
      "metadata": {
        "id": "yOCQKfSNgJR7"
      }
    },
    {
      "cell_type": "markdown",
      "source": [
        "Try to  build network like this:\n",
        "\n",
        "![{E1CAF4D7-F63C-4FFF-BDB9-477BE0AF0FDE}.png](data:image/png;base64,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)"
      ],
      "metadata": {
        "id": "9OPcADGxaZMa"
      }
    },
    {
      "cell_type": "code",
      "source": [
        "from tensorflow.keras.preprocessing.text import Tokenizer\n",
        "from tensorflow.keras.models import Sequential\n",
        "from tensorflow.keras.layers import Embedding, LSTM, Dense"
      ],
      "metadata": {
        "id": "CmFyqz0ka5UD"
      },
      "execution_count": null,
      "outputs": []
    },
    {
      "cell_type": "markdown",
      "source": [
        "# Split Data into Train and Test\n",
        "\n",
        "Test: 30% of randomly chosen  observations.\n",
        "Random Seed: 10"
      ],
      "metadata": {
        "id": "-EE2wDvKdnG6"
      }
    },
    {
      "cell_type": "code",
      "source": [
        "from sklearn.model_selection import train_test_split\n",
        "\n",
        "#\n",
        "#\n",
        "\n",
        "# fit model"
      ],
      "metadata": {
        "id": "Xyu6KfNVbEDp"
      },
      "execution_count": null,
      "outputs": []
    },
    {
      "cell_type": "markdown",
      "source": [
        "# Model Training\n",
        "\n",
        "![image.png](data:image/png;base64,iVBORw0KGgoAAAANSUhEUgAABOMAAACeCAYAAABw687RAAAAAXNSR0IArs4c6QAAAARnQU1BAACxjwv8YQUAAAAJcEhZcwAADsMAAA7DAcdvqGQAAEy9SURBVHhe7d1PaxvH/wfwT3/PweBDC4kRfQAmYAg5rKEHkbPQuTaKD8FnW/geV/XZ5OAI02tUnYMPBetQAqaOHkARIpDA11QPwr/5u5q/+0dayZb8fsEmlrSanZ2ZnV3Nzsz+cM8QAAAAAAAAAAAALNz/qf8BAAAAAAAAAABgwdAYBwAAAAAAAAAAsCQFG+OGdLq1RVvOst+fqM+XY9Lfp639HlWxVRFWwX0Ib3dCvX2eDvvUu1Nvme56tP+AaQUAAAAAAAAAAI9PqZ5xrd6YxuPpctnYUJ+sEtmIdkx1aql3sk3o+tOAWm+blO6taGg7JnodC2FIpy/bVNPp9blDdLRDp7fqYwAAAAAAAAAAeJKe3DDVSf+YRm95Q2JNvZPj9gO1By2qv1CveWPeyYgOx5fUfKbeckz659RNOvRGf2ezSYcHRN331fTqAwAAAAAAAACA1VRRYxwfxsqHa9rDWd2eYHpoaObQzdtTa53QsNRvZjidoXq3mI3GJZ2kDWv5hn91KTl7Q9vqNQuBmpcnxmuX7EmXvN61etKdX7D/ByP6Jt8BAAAAAAAAAIAnqFRjXLdpNJKxxW5sG1D75TnVPsuhmTdnCVv/lHRTGW+I2zmqUT8d5tqn2tGO3SDHG+KaI+qoMMRyaQwP5QZtaowO5WefO5RcNBY3/FM0oiVUf1V+OG7tmfyOaIB8OaJDHlca0Sg0vxwAAAAAAAAAADwJc80Z5/Ywa/Uuqbkp/95oHFIrbXxSvcWsHmbb9OYsocGna9XzbUK997wX2u9pGEFJh27aKpTNXaonRKOvixn8Ofn7igYHh9nxiZJz0+2IhkPdk65GtZnCAgAAAAAAAACAdbDgOeMGNPrO//9Go8G0t5i28axmDN0Mr/NwhvThiKjza3xAapZuc0fMTTfWDYffRyw1AAAAAAAAAADgKVtcY9zdiEaUUO1H/uInqgV6sE2+joiSGvuUC6/zYG6vqJvUabd0T7YN2n3NdsR8gAMj9vWgnjHXHAAAAAAAAAAArLuFNcYN/2jTIG3Mkg1Ug6MP6RxyfD6246MBtd7qOeH0OsfUe/B51eSQ2Wncytl4Vadk0KZjPR+e3tdf0BQHAAAAAAAAAPCU/XDPqL8z8KekNqirXmnJ2Q1dNnhzVeDzg/50iKYy7GxRgz9VVOFz0LnzzskHPRgDOvkcceohDuKzT/X0tWg029+hq9c6HgWIh0S4e8KY8b3r0T5/6EI615vN3Q/N2h8RRjsdmhraVwAAAAAAAAAAeFoKNsblkY1xtCYNTryx7bxWooEPAAAAAAAAAACggAU/wGEF3fXo/CKh+is0xAEAAAAAAAAAQLXQGOfabNLl+JKapR/cAAAAAAAAAAAAkK2iYaoAAAAAAAAAAACQBz3jAAAAAAAAAAAAlgSNcQAAAAAAAAAAAEuCxjgAAAAAAAAAAIAlQWMcAAAAAAAAAADAkqAx7gFN+vu0tbWlln3q3akPAODpuj016oUtOr1V7wMAAAAAAMBaKN8Yp38odobqDWnYmf54DH1Odz3aNz8PND7lhuEZ0ilbL/xjVX62tXXK/jJUEA+7EY0t+z2aqM9KSzp0Mx7TeHxJzU31HgA8XS9OWH3A64Q+tdRbDyZS33OF6utCDYuRurpCdlxD29FxUIu3LxPq7Rufz1PnFya3ud9f/JYeJedcveqN0vllMJt33cGX2DVS6Lj1rn2mi5e2Gcc9rK65yqBTl0+XwI1ka137c++8wRa3jvPK+oqWQ3s/Zju/VRHG4zH/ebRI+dF02sXPoTnXHhnleFWsV/lZI875uOx1Xug4EEvgmLLWjR1zOef8QmHA7O5L+XL/7vnz+729vfvnv31R74XI9d79o14G/PcnC2Pv4/1/6rUvP4z7f95Fw/jy23P22d793vN3LKS4+ePx3/3HPZYmf8ZDiMnfNgA8XQXqwAUSdehvH0X9ll3fc4G4/u8jq3/37j/+T73m9bX5mhPvvbv/yOvCnLp6ZnwbRvzlucGsd2Xcp3W4W6fL114YuWkyJ5F+s6TJw5ab6q3+/rjner8M5hNhFCpzqjznXqcx7jHKlDvuYVVUUQY9qv42S4kIN6Pe4p9nXS/718Vu/byCAulUWhVhPDBZt+g98M+rReSVn5Sq2/asc7lNHgPh34l55XjlrEH5WR/ONY0oq/Nf49jHFye3k3+MZV0zFA0D5lGqZ9ykf07dgz79/lq9EfUT1RKi0dd42+nGsxrRYETf1GtfXhgT6r3vUvJ6lzbUO6m7Hp1ftKh/WldvxM0fjw2q/cyDiIcAALBSbk/pvHZD4/aueiOPX08O/2jT4OBw2uP3xRvqJANq/6HvvA3p9H2NbsYnVHQrM+E9Ddvb6gXR9q8dSgZXdK3vct9eUZdadNjQZ5INar5t0eDog7yLfHdNV4OEOr86YVycL/ROuUy/Ok23CqtpSB+OBtR620yvVWQZbNOHBfT2K36dFjhGSx/3sBoWUQbVNfjZm2kdpa+9WZ0+a731bTQg+rlmXNfLcwusOFE2zPOoPM/Sgs6jvG6js9/pkP0+C8r6nVhBOQaIEefopENvXqg3Npt0eEDUfT9HjzPv+JpeC5jXvyFZ1wxFw4D5FG+MYxl9fERWRkepHy/1V14zWWr4V5co64dGXhjic/MHlMYuEE54JWxcIGSYOx7sIufqgqj1CwoqAKyJFyd06dWtGbx6MlAv3n6gNvudRf+O1AXHNp1cTn8cRllDRRbURT6psZ98hh9rlNCIRumPhBrVzGkENtlrGtDoO38hh96c9vWwg1Ma6jg7cXWHFmQNn7lyLqy0eBh6yE2D2FmNuk1jPWfogR2GM3SFx53H20r3xzq8xRleHIpnbvlxhk6xJTQkVg/3KT1cVjX21vWFNyMawdj/WTcsZ1LqOo1fvDvHaNnjfpHcfAsNn5krb2XZsfJThGeUIZZG++K1Wc6cMibWMbYRqp/cddIwVPzcfXPjIeh9cd8vYBFlUNTn9rXx5O+ruW8gyBsdjTRNJv1jtp3Qtf4iyfx262dZBxjpXyTvl6HAsZJ77omWUZM6DmbYT1E2kjrtpudRVp7f8zOVPo9WiKVH4yKrzLBtZ/xOrKIcz03kqTs0NlBfLKkMuuXHPw/q+iljHbecGnEVx5YVdxmeWU55HPhrc+itV44LHAvxeGQc9266qjC87eea0PWngd2RiOUhPxdndwzKJupz5/ji28ltm2Dbjl8zFAwD5qd6yOUyuwaHh0uoLse8O2Osu6XoJqvWCXaPLxCG4nfHVPg2dNixYT4VxEN2YZbLrN3n/e74U+IzFb61pOurrqOBRcd3KWGo7rX+OtOhL2ZaWYvOv5UJ45GkOfJeLmuY9za5fvizZckaSpJVT/K4O+nP0yEyVEKmXaCuFvkyDacKaVzUa533ZvxlebHz3qzndV7L7+h04PFXeczDd+IuvmNuN0Ns3WJhZJcbd/+9tNfnx3SdrDKwDLH9ieWLsS8Fyo9IjwL7JsOOp2uUeU1ixLnodjW9/eniHy88zOzrtCnxebQsPYI8N7cdOEZlOc3K27x9CJQrt35S2zXz3c43to3fzDT0y2Qw7iavTpTxtsIQ1P4E8j1XRWXQFPquLH9fVDzVElhnWobZEiyDel9jny+ef3y4+VIg7zUvj2cQC0O8bx4HKu2MdM8+1rnAsRAk15slT6z6KD0m3DTNl19+ZJjm8eqFbx4PIi52uhYpx4sXSBsRVyevl1EG2XfNsiHy0grLL3Mer5za8o83I++tvDPDZPtvxiFU95aOR+TYEOFE0jqTXT7TtPT2pYxQHPl7LLx/ZBrocuzuh3l8WMeoUCwMmF+xxjjnIPYzzDX/gZkdhiog3nedAhmoZD1zxUMSFYR3QsjnH/QAAFroBLtsBepywV1P19FyH9ILFl7fBuq89IJEvU6pi6nyFzwR6gLKS1P1fnqx8adzYaTioT/fY59P80buu4yjmWc6Dfjfeh+zzjWaDC+U78XCyCo3dpwkZ32RFk5eRPJtOSL7E4qnu26B8iMv8HOuE+ah007Ed5r25kXwLLx4O+mRfZ2WVUa4osf9spjHWOh1QLB8mAJp4H5HlR9znbzrNpEvRrq5r32hMlukniih6jIYiaMsk+b7ct/i21DlzEpP+R2ZZurzqtOjCHcfxevseiKa17llsYBIGMFtOuvmnzfMNF8MXR/JuOi4yfyN10N5/PLjHp9+GQ8db3a6li/Hi+Hui07DLAstg5p7bOSGnV9fu/sa+o7Yt0BdES8/bhj58Si/b2XJOOiG6DSvCtQvMX7aceqYNt8X+xLfN798FQgDKlFgmKrsStzqlRk7r+cCuAp0c1bU/EFXf8e6eMbDkGOYjXlOFD22+cToip9rjnho3hxEFTC74VqL0502tI7uGryUMLyu7XqZdq92uzeni+4+vDJhPJI0R97LZQ3zvipeXNI4LEqonhxQ++U51T6P06Fvk68j8X9hm026/NwhOtqZP634sIImn+Poxj9HpE+wlcvJsxGLvTE0lcfD+PzyFdGIEqr9qD4vYKNxSTdnxNJE50tkuBkf/kXGfCKGwmHE3I1YvHm+6O/zRQ5rzVVyCIV3zOljrSKiLLnDi925CwuUn+32mPoHXWroeC7iWBm0aUfMj6ifmj6h0b/ik5mJ6450KHW56zRxrWTOWVOxKvLeDmNHDnFPfSM+tVjtWXzoYrh8zMI+zvkxODaG17t1bYMPN0rJfE5qWbHYpjdnCXX/kmkkh8j517dzq7AMenMNGpKz34335b4NPl1Hjil13jDqlmGH1UesbN6IOYrY55c3zlyjxcxdBsU8TtPfBqGhi9l5vwyR8uVMs5B/3timE/70dj48WO1L+eF3BbDwd0aH7Byq6yl5HM/OLT98bkSizml8+ouivxPLleMQ/3qv7LXLRuOQWulvy/CQweWUQWdfXsoh7lp+XZtfXxdmzSfJyy27XjPyct7zhnvc86msrHkxK9Jt7tDoLbue1HOxfedXZrPw5wOdSuxjwWrvKHrNkBUGVEY1ysWJ1trn92avAXOJtkjz1lOvpdakW4fVy5BgGLHvqVbmQBzFEr2bMGs8DDO2aIdbswEAuLy7fsvg3L3L4tSToTu0/l1qSdSFRerQWe/KqfNY5h1RQ/TusmLX3TKNZNhmnvG/43H17/JKsTQKCYeRVW6y4ySINLbz4mHPVZH9CcQze9+Z3PJTorwXFopTgXzIY+5Lqes0GZ/sMraIdCjOrw/MYyz0OiBYPkyBfHG/I9I1I58C5cmtO/LqEiG9huT7NWe5CKqwDKqyFjrGRL45+xp6z2TndbjcFUrDReD5K+q9QL4UyPtUblksIBJGcJs52xPfyarPM/J4ZqFjKS33s7PKj9hvtm/BhW9bla/g52xR6ThLOV4UnleinuNp5ebZUspg4Jh08zI3bBlGVn0t0tfaP/870X1T7LqEc8PIj4fA90fEhdeR85XPEH9f1XszlC9/nzW5r/YxbLynjvHgccAW+b2cMKAy+T3jnB4BfLk5S4j40zWcFumpIZ3yHgihJ50qelJWc0JZWySMaK8BfgfNjuf4M79zzJ+Iw/6OPAlk5nikJmIiUDz1DgCeLr+e3P6F95RrTO8G3/JJlbMf7JNL3PEvi8WN38ll56wik9PzO6t88ud+9JyxTzs5d9+L+Cn0iMA7+RS3opOVB8NQvcN0TxvbNtUPBtQ+KdP7S955zTqfP4gXdXZ279K50YND96qJ9vjKLT/y6eghugdC+Z6ZPM35nfBpbxQZT3OyZSnt5ZDbi0ceb6R7J5W5TvOeHvz4iCdqGj0t5HWaeiFs0O7rhAZHx2nvZ48qH41oWjq9KHnvaJ6mJcievkYPWlHHqb8Vrx4MEb0xWFneZ/v5c6xXnJzQvHRvWKG6Mign4o/03H1Vd54yrXptxCYAZ2l+zOuWtOeJzFerh7WoE3lxmL+PY2m8Fwhd0fXtNfvXTqsieb8MsnzZaS7OxRm9ecLnDYN4QFEIC5uXjVl6D2/uUp33cEzPPfHfTrp3U27vPLf8OD3c+dJn5Z73hh+LHqHFfieWLscLxHtA06drGrLjjpxz8HLKoOxNNj3+VL6pV0JuXZtfX288YyXO6iHr9mrLV8l5gxPHfZuO989pFDuO+EiLImU0QJSvAQtff1eVY798qePNGOVjUw+DCMZR7qv1hFbx0B3V3lHomiEnDKiOapQrxW/BlXfd/FbVKdl6a6zj3ZXJD4NL7xIUEbjrMn88ZKuw+Xnh+DhEXLztAwBwsi56kDtQsbtmaX1VrL6271Q7d8UDdam3nvV9uZRND3E31QlDLOk5zIlH4O6kFYZXZ8vvy/OAmWf87+m++PHw72b651ZbkTAEN/+cMDPDqSDNq+Cdq9VinW/d/XTzJndfAmUwck7W8Zk1LbLLkJTuc14ZZEtePMJlSZbP6DVL7nG/LE79wvaD778bb6+MePHMqaes8sGOAfeaUbx26y2TU37Y9r+E0t0rh4HjVq0Tz1e9rcgxX8C8ZVCXj8yy5+yrva57vIXT1i3rs15jVyF+3OflfaBuEUtWeXIVC8M9Dtz0ctPTK0OB4z6c5up4mrk+cPYnVMYYHV8/DsXKjylUb1jcY17LLMfLpPc5dNw76bGQMsh4aWFf20g5dS2TXV/bceV55uadKBeRMiNVdd7Q62Skk0qTzLKVxTnmwuVL7084HjKO2ecDfSzJJXtdEV4gfcuEAbP5gf+j2uUeP37n8uWIDtP5Blab6GHxqU43xvwjAAASvyvWIOrFeiDDeuH5zefY03M6PRB+x7dJ1F+T8yzASsBxBwDwKOD3OSxTgQc4PB5y0lgMBwUAgPUiJ9X3h40BwLqTQwvLPSgNAAAqJ4aNzj8VCUBRq9Uzbs2IlvcjPaA9oc5D94gAgIcnekhM5y5qoWccLBN66AAshxjtIedf4vNaFZnTEtaDff0fwJ8oi145sEAogw7j2hvX3bBMaIwDAAAAAAAAAABYkpUapgoAAAAAAAAAALDK0BgHAAAAAAAAAACwJGiMAwAAAAAAAAAAWBI0xgEAAAAAAAAAACwJGuMAAAAAAAAAAACWpGBj3JBOt7Zoy1n2+xP1+XLwxzBv7fdo3q0OO+Z+nLK9yxbe7oR6+/z7+9S7U2+Z+CPrHzCtAAAAAAAAAADg8SnVM67VG9N4PF0uGxvqkxVye0oN6qf70D/oUiOzgW9C158G1HrbpHRvRUPbMdHrlnrDNaTTl22q6fT63CE62qHTW/UxAAAAAAAAAAA8SU9vmOqLExq3t9ULou1fO5QMrug61LuNu/1A7UGL6i/Ua94j7mREh+NLaj5Tbzkm/XPqJh16o7+z2aTDA6Lu+/l79QEAAAAAAAAAwOqqqDGOD2PlwzXt4axuTzAx3NP4PDh08/bUWic0LPWbGU4nb5DpfIZ/dSk5e0PT5rsNal6eGK9dsidd8nrX6kl3fsH+H4zom3wHAAAAAAAAAACeoFKNcd2m0UjGFruxbUDtl+dU+yyHZt6cJWz96XxsvCFu56hGfTU8dDzuU+1ox26Q4w1xzRF1VBhiuTSGh3KDNjVGh/Kzzx1KLhpzDf8c/tGmQVKn3U31hkk0oiVUf1V+OG7tmfyOaIB8OaJDHlca0SjWAw8AAAAAAAAAANbeXHPGnaRDN6VW75KaqlFro3FIrbTxSfUWs3qYbdObs4QGn65Vz7cJ9d7zXmi/p2EEJR260cNMN3epnhCNvs44+JPPH3fB4m3OB2eY/H1Fg4PD7PhEyQc87IiGQ92Trka1mcICAAAAAAAAAIB1sOA54wY0+s7//0ajwbS3mLbxrGYM3QyvszCiFx5v/LvxGhWlIX04Iur8Gh+QmqXb3KHR2/F0frrvI5YaAAAAAAAAAADwlC2uMe5uRCNKqPYjf/ET1QI92CZfR0RJjX3KhddZCP40VNUQF30i7O0VdWPDVzNt0O5rtiPmAxwYsa8H9Yy55gAAAAAAAAAAYN0trDHOnotNNlANjj6kc8jxBrHjo4ExRFSvc0y9hc6rNqTTlyxuB/14Q5waMhsbvppn41WdkkGbjvV8eHpff0FTHAAAAAAAAADAU/bDPaP+zsCfktqgrnqlTXuWBT4/6E+HaCrDzpaYo03jc9C5Q0Tlgx6MAZ18jjj1EAfx2ad6+lo0mu3v0NXrjB5uDjcOKTO+vOccf+hCOtebLRaGtT8ijHY6NDW0rwAAAAAAAAAA8LQUbIzLIxvjaE0anHhj23mteAMfAAAAAAAAAABAEQt+gMMKuuvR+UVC9VdoiAMAAAAAAAAAgGqhMc612aTL8SU1Sz+4AQAAAAAAAAAAIFtFw1QBAAAAAAAAAAAgD3rGAQAAAAAAAAAALAka4wAAAAAAAAAAAJYEjXEAAAAAAAAAAABLgsY4AAAAAAAAAACAJUFj3AOa9Pdpa2tLLfvUu1MfAMDTdXtq1AtbdHqr3gcAAAAAAIC1UL4xTv9Q7AzVG9KwM/3xGPqc7nq0b34eaHzKDcMzpFO2XvjHqvxsa+uU/WWoIB52Ixpb9ns0UZ+VlnToZjym8fiSmpvqPQB4ul6csPqA1wl9aqm3HkykvhecunS/H6kFrcZFu7716lq2RMOZg70d55wg6POFWrz9zft8ESbU219MeqwEp3yteqN0fhnM5l138CVWDqPHbX45xk3C9TVXGXRuEk2XQBnJqPMlWbel6zjlcF3KoL0f5Y95roowHg8n32f47VTmmkGnnfd53rWL9zuRL6uZ9utVftZI0evniNBxIJbAMWWta33uXA+Ixa1v5z9moYD7Ur7cv3v+/H5vb+/++W9f1Hshcr13/6iXAf/9ycLY+3j/n3rtyw/j/p930TC+/PacfbZ3v/f8HQspbv54/Hf/cY+lyZ/xEGLytw0AT1eBOnCBRB3620dRv/n1Pa/39u4//k+9/N9HVtf6cRVhZNTB/PNZ6s5S+HnCiL88N5j1rjqvpfHw63T+nem+uesviEjT7PNX2MOWm+qt/v6453q/DOYTYWRed2mqfAau03LLMS9zRrzENmcqg/DYVFEGPbxudcqHCDerzKhzRaz+9MpcYBsrp4p9WIN0EGUjrZPkebZYnTbFwyh07hXljP0G9H6fFbh2mfnc+4itw3G0NpxrmlAZnIF9fHFyO/FjjH9uHAse/xj1twFVKNUzbtI/p+5Bn35/rd6I+olqCdHoa7z9dONZjWgwom/qtS8vjAn13ncpeb1LG+qd1F2Pzi9a1D+tqzfi5o/HBtV+5kHEQwAAWCm3p3Reu6Fxe1e94dqg5qXRm3ezSYcHRN2/jPuuuh4en9C2eutB8J6G7WkMtn/tUDK4omt99+/2irrUosOGPpOwfXvbosHRh/Qu8nZ7TCcv1Au2N2/OEhp8ul7oHcLhH20aHNQfNu2gAkP6cDSg1ttmeq0iy2CbPiygt1/WdVpuOWbH8eXlNJ4bjUN2ZHTpCkPlV9wiyqC6Bj97M62jCtT5vF6jsxu6TOtb04SuPw3sMF+8oU7SpfOn2kN4XYiykVDnV52z8jxLF+cL6fkoy9nvdMh+n9kKXLsALJA4RycdeqPPxboMvp+j15l3fE2vBczr31LurulqYIcpzhsLOmafsuKNcSyjj4/IypQolYH1V6GTrTT8q0uU9UMjLwzxufkDSmMXCCe8EjZO5hnmjge7yLm6IGr9UmRrAAAr4MVJ5MdScZO/r6ppTHKHRy2im3xSo5/Un8KPNUpoRKNCFxyyG/9pXw87OKWhjrMTV3doQXxoAj+v2BdBWjwMPeSgQeysRt2msZ4zDMwOwxm6wuPO422l+2Md3uIOswjEM7f8OMMw2BIaEquH+5QeLqsae+tpIxiLNW9oZf9n3bCcSZnrtMfOzbfQkNy58laWHSs/RXhGGWLpuS9em+XMKWNiHWMbofrJXScNQ8XP3Tc3HoLeF/f9AhZRBm8/UNu5Ns6v82W9lvXbgKs9Mz9/iBveMr/d+lnWAUb6F8n7ZShwrOSee6Jl1KSOgxn2U5SNpE676XQ8rDy/52eqAY2+y3cqw9KjcRH6fbhCRJ5Ghgya+bukMuiWH/88mFXXKm45NeIqji0r7jI8s5zyOPDX5tBbrxwXOBbi8cg47t10VWF428+lbjiYHYlYHp5fsP8zOwZlE/W5c3zx7czfNlGjmjmF1iZ7vYhj9qlTPeRymV2Dw8MlVHdG3iUy1t1SdJNV6wS7xxcIQ4l2leTb0GHHuhpXEA+xffV5oS7TAe6wAZPsqj/dRrqk66vup4FFx3cpYajutf46066vZlpZi86/lQnjkaQ58l4ua5j3Nrl++LNl8bupB6n0M+PK03zvzy9WXeqG4+VLmlaKCHeaj1UQ2zS3E4m7WX5sMl+m9b4+X/BzjcpjHr4Td1E+3P2LiK1bLIzscuPuvyy3xnlSnx/TdQqWgYWJ7Y+bD4F9KVB+RHoU2DcZ9gzHo3lNYsS56HY1vf3p4l/b8DCzr9NMfvq5vPRcGhY3M+6BY1SW06y8zSu3gXIlwnTLj0xvvZ6db2wbv5nHYyBNQ3E3udtU8fbzxaxnSqqoDJpC35XlL6POF2nB4i/2Wa9j56EI16zjdB7MGM9ZibJvxsPLlwJ5r3l5PINYGOJ9Mw1VOTHSy98XV+BYCJLrZYcVZtVH6TERK+txonzwOOjFi4sM0zxeM8MPHZ+6zBlLftpULZA2Il5OXi+jDLLvmvvvnxf8Mufxyqkt/3gz8l6v56UH23+vvnHyrnQ8IseGCKdc2ZXs8pmmpbcvZYTiyN9j4f1jl2V/neln/v7Iz833ZHwD6QFzKdYY5xzEIjMyT4zzH5jZYahC5n3XKZCicOdUPnPFQ/IuHgryD3oAAM2pzx5Egbpcr+PUZfLCyaxb/RO7LRCOupgqf8EToS6gvDRV7+vl3Z/xCyO5X/6FqIyjmWf2eUpexGSdazQZXijfi4WRVW7sOEnO+s75XuDvPdi5KrI/oXi66xYoP35+VkynnYjvNO35ducp1168nfTIu07L3e+qj725mMdY6HVAsHyYAuXK/Y5KA3OdvOs2ka5GuruvfaEyW6SeKKHqMhiJoyxT5vty39JtqPQ000PWaWY+qfMAX48vLN4fc9NwAdx9FK+zylNGXueWxQIiYQS36aybf96Q+bTINNb1kZ3f8XNdMaqsGMeje3xml3H/+0EiPeeJ52zcfdFpmGWhZVBzj43csPPra3dfQ98R+2atE6jDLW4Y+fEov29lyTjohug0rwrULzF+2nHqmDbfF/uSUQ+IODjpo97T9fEeuzbOTnOYRYFhqrIrcatXZt4fPRfAVaCbsyLmgRjQ1d+xLp7xMOQ46EPv6aN6fPR0TpQC5oiH5s1BVAGzG661ON1pQ+vorsFLCcPr2q6Xafdqt3tzuujuwysTxiNJc+S9XNYw76vixSWNQ9X4UIIdag9a1DfmmtKSs9+NejpvrjVV15pd9fkcVp87REc786cVH1bQ5HMc3fjniPQJtnI5eTaigds9n+HlqMGHj34uPw/eRuOSbs6I2i91vkSGm/HhX2TMJ2IoHEbM3Yj4nk2/zxc5rDVXySEU3jGnj7WKTL6O/OHF7hyvBcoPn0etf9Clho7nIo6VQZt23tfoJn1q+oRG/4pPZiauO9Kh1OWu03LLMa8PX/I5C/szDVevIu/tMHgdoz4QvtGIvbaHM9rC5WMWCdV+VH8y/BgcG3WdW9c2+HCjlMznpJYVC1kv6jmr5FBP//p2bhWWQTEkKhLH/DqfnSuMOYz8eQn5nF7Tunh8uUuUm4a+ucugmMdp+tsgNAQ3O++XIVK+nGkW8s8b23TCn95+0Uj3pfzwuwJY+DujQ5avut6Rx/Hs3GsGPjciUefUvxbxZV+7WMTvxLJDuv3rvbLXLuLYSH9bhocdLqcMOvvCzw3qEy6/rs2vrwv7uWbkFS+35jyo7nFf/rzhHvd8KitrDsuKdJs7NHrL6jddF37nV2az8OcDnWLnePNYyGvvUHPXWVMC8GsoXRez5fIVOw6ccyJUQDXKxTmtou4SbR3lLbBeS61Jtw6rlyHBMGLfU63MgTiKJXo3YdZ4GGZs0Q63ZgMAcHl3/ZbBuXvnEHcqI3Vf6C5u3p1d8XlWXZp3Zy8mdMcvQ+jusoxbaNsyjWTYZp7xv+Nx9e/ySvz9UvH0wsgqN9lxEkQa23nwsOeqyP4E4pm970xu+cku77MJxalAPuQx96XEdVq8HGsyvtWmQTl+PWAeY6HXAcHyYQrki/sdka4ZaRUoT27dEapLPOk1JN+vOctFUIVlUJW10DEm8i1Ub6bvhbaZE4+8PFgknr+i3gvkS4G8T+WWxQIiYQS3mbO98HnDkJHHMwvlY1ruZ2fVFWK/2b4Fl0BeFd62PH6KnperxOMptsvTys2zpZTBwDnRzcvcsPPra5GP1v7534num1LJeYPj+yPiwvN9ljTL5u+rei9j32L8fdbkvtrHcOg9k/w8N42z6g6YSX7POKdVlC83ZwkRf0IH+zvcC21Ip7wHQuhJp8qkfyzuSJgTytoiYUR7DTh30/jymd855k92Yn9HniYyczxSE/HACDz1DgCeEn5HNqt3zcaruvPUJXUHLzah7B2ffN55kp5L3PEvi9XhJXr5yF5Ddu8N3qtuh8e9ZzyFbU4/8S5cLpYG/GmERSeeDoaheoeFnw63TfWDAbVPyvT+kvmWdT5/EC/qokeN+ZTFYadhP6XMlVt+5GTxIboHQvmemTzN+Z3waW8UGU9zsmUp7eWQ24tHXpeQ7p1U9Dottxzz3iIyDW9mfQJbBb7x7gtGTwt5naZeCBu0+zqhwdGxUb84VPloRNPS6UXJewPyNC1B9Agxe9Cy9HV7pmz/wkdWNLLLjeiRwMryPtvPn2O94nje8N4eJXvDCtWVQTkRf6Tnbm6dr+qfP6ZhyycL+vEQVA9N/lTMqurdUnhPErqi69tr9q8dxyJ5vwyyfNlpLn6zZJxHw+cNg5ikPYSFzcvGLL2HN3epnpjnnvhvJ927Kbd3nnvN4PRw50uflXveG36c9giVZbxMD3dxrLDa5CEeCMF7QNOnaxqy446cc/ByyqDsTTbtfanyTb0Scuva/Pp64xkrcUbv+2HH7dWWr5LzBieO+zYd75/TKHYcsbQuVEYDRD05YOHr76py7F8bq+PNGOVjCzx9OiX31XpCq3joTry9Q6YXOy4iD4Dix81O4Z6nUIpqlCvFb8GVdw3MuxBuy6tsvTXW8VpW88Pg0rsERQTuuswfD9VybHxeOD4OtDADQJysi+J3sRZI1J12PScWXV/FPnfvfDt3qrPrUue7nPN9vpRND3kHPLCk5zAnHt5dQf+coBcZF/l9eR4w84z/Pd0nPx7+3Uz/3GorEobg5o8TZmY4FaR5FbxztVqs8627n+75NHdf/PN57Jys4zNrWlhpnrONUBlw8ywvHn5ZyivH8TRf/nWKE1e2H3z/3WstL75ePP19ttLNKh/sGHCvGcXrQL2UcsoP2/4XL90ZrxwGjlu1Tjxf9bYix3wB85ZBfbxllj1nX/11/TSz4mF9Pyvtl0OnR5H9sPM+ULeIpcw+FQvDPQ7c4ySzvufcepQt4d816niKlJ18zv6Eyhij4+vHwU2P/LT06o3AvnphucdrJJ7Lofc5dNw76bGQMsh4x7R9bSPl1LVMdn1tx5XnmZt3olxk5kVV5w29TkY6qTTxy2hBTjkM16l6f8LxkHHMPh/oY0kuOcd9IB2s78983EOeH/g/ql3u8RN3yUZ0mM43sNpEK/OnOt3kzVcAAE8QvyvWIOrFeiDDeuH5fU61z9X1vpsJv+PbJOqvyXkWYCXguAMAeBTw+xyWqcADHB4POWkshoMCAMB6yRyuBQBrTA4tLPegNAAAqJwYNorhmLA8q9Uzbs3I8dd6QDufv+CBe0QAwMMTPSSmcxe10DMOlgk9dACWQ82Jxq8C+bxWszy5FlaTff0fwOdtRK8cWCCUQYdx7Y3rblgmNMYBAAAAAAAAAAAsyUoNUwUAAAAAAAAAAFhlaIwDAAAAAAAAAABYEjTGAQAAAAAAAAAALAka4wAAAAAAAAAAAJYEjXEAAAAAAAAAAABLUrAxbkinW1u05Sz7/Yn6fDn4Y5i39ns011b5o+St/din3p36LCK83Qn19jO+72xn2WkFAAAAAAAAAACPT6meca3emMbj6XLZ2FCfrJDNJl0a+3BzRtQ+yWrgm9D1pwG13jYp3VvR0HZM9Lql3nAN6fRlm2o6vT53iI526PRWfQwAAAAAAAAAAE/Skx+muvGsRjQY0Tf12nP7gdqDFtVfqNe8R9zJiA7Hl9R8pt5yTPrn1E069EZ/Z7NJhwdE3fdz9uoDAAAAAAAAAICVVlFjHB/Gyodr2sNZ3Z5gYrin8Xlw6ObtqbVOaFjqNzOczlC9O5vhX12igzptq9cu/nly9sb4fIOalyfR9XVPuuT1rtWT7vyC/Z/V6AcAAAAAAAAAAGuvVGNct2k0krHFbmwbUPvlOdU+6+GfCVv/lHRTGW+I2zmqUT8dItqn2tGO3SDHG+KaI+qoMMRyaQwP5QZtaowO5WefO5RcNMoP/zQa/Br/duimHWlaE41oCdVflR+OW3smvyMaIF+O6JDHlUY0ypmfDgAAAAAAAAAA1tdcc8adpEM3pVbvkpqb8u+NxiG10sYn1VvM6mG2TW/OEhp8ulY93ybUe897of2ehhGUGI1nm7tUT4hGX0sO/nxxMt2PtyPaiTyEYfL3FQ0ODrPjEyUf8LAjGg51T7oa1WYKCwAAAAAAAAAA1sGC54wb0Og7//8bjQbT3mKaPV9beJ2Fe/GGOsmArv52G/SG9OGIqPNrfEBqlm5zh0ZvxzTWDYffRyw1AAAAAAAAAADgKVtcY9zdiEaUUO1H/uInqgV6sE2+joiSGvuUC6+zLF4j4O0VdZM67ZbuybZBu6/ZjpgPcGDEvmbMTQcAAAAAAAAAAOtvYY1xwz/aNEgbs2QD1eDoQzqHHJ+P7fhoQK23ek44vc5xcMjookz6x87TUjk5ZHYat3I2XtUpGbTpWM+Hp/f1FzTFAQAAAAAAAAA8ZXM9wMF9Gqr5eYP61sMXNhqX1D/oUkN//2Wbaj173jm+zs0ZUfvlNJzQ01Tn4T7RdedTnW7SOd2Uu2u68hropoYd9f1ml73iD66Qr9MHSWw26fJzh+hoR64X2FcAAAAAAAAAAHh6frhn1N9zGNLpVoNoTRqceGPbee2GLhtLnr8OAAAAAAAAAADW2oIf4LCC7np0fpFQ/RUa4gAAAAAAAAAAoFpojHPxIabjS2qWfnADAAAAAAAAAABAtoqGqQIAAAAAAAAAAEAe9IwDAAAAAAAAAABYEjTGAQAAAAAAAAAALAka4wAAAAAAAAAAAJYEjXEAAAAAAAAAAABLgsa4BzTp79PW1pZa9ql3pz4AgKfr9tSoF7bo9Fa9DwAAAAAAAGuhfGOc/qHYGao3pGFn+uMx9Dnd9Wjf/DzQ+JQbhmdIp2y98I9V+dnW1in7y1BBPOxGNLbs92iiPist6dDNeEzj8SU1N9V7APB0vThh9QGvE/rUUm89mEh9Lzh16X4/XgvqOtNdp3ydPxt7O845QdDnC70Y5wXvnDFdFttQOqHefna6rjUn3Ve9UTq/DGbzrjv4Yh0vbhkOpZksU+k63rWLHwZuFK6Pucqgc5NougTKh7Wu+3lGXWuInTNWiX3Mlj/muSrCeDzy6p983jUDW2JlJFqGKrh2WRXrVX7WSIkyGBI6DsQSOKasdUPHXOa1llNfL+ga/cm7L+XL/bvnz+/39vbun//2Rb0XItd79496GfDfnyyMvY/3/6nXvvww7v95Fw3jy2/P2Wd793vP37GQ4uaPx3/3H/dYmvwZDyEmf9sA8HQVqAMXSNShv30U9Ztf3/N6b+/+4//Uy/99ZHVtJK7iM1YX59aTC9pffp4w4i/PDWa9629X1M1Z5w61T+n+L4LYRvb5K+xhy031Vn9/3HO9XwbziTAyr7scvNxb5Udeq3jHghUmT+sFl2t4EFWUQY9XxlS40XqrSF2rr6k/inVnubZ+dALpVFoVYTwwu77x66MieBiFykT0umMR1y4rYA3Kz/pw6sGsMlhC+HyefYzJ+jd+zudhTuMlw1uLOvmRKdUzbtI/p+5Bn35/rd6I+olqCdHoa7yld+NZjWgwom/qtS8vjAn13ncpeb1LG+qd1F2Pzi9a1D+tqzfi5o/HBtV+5kHEQwAAWCm3p3Reu6Fxe1e94dqg5qXRm3ezSYcHRN2//Ltmwz/aRGe/0yGrJ7PlnzdmwnsatrfVC6LtXzuUDK7oOu35NqIRJVT7Ub1mxHkhA9+nwcHhQnszy23UaRpzWE1D+nA0oNbbZnqtIstgmz4ssrffjzVWqlnZTsv5NV0NEur86hwLF+fo+bb2FlEG1TX42ZtpHaWvvccn4XqrQF076R/T6O2YLhvZdTCsGFE2zPqHXUO8bREtqP6JX3cs4toFoDjRlpJ06M0L9YYug+/nGGXnHV/TNhvz+tfGzwtEnc/xkXnb7TGd6HiyWv3NWUKDT9ezxxOCijfGsYw+5plmZHSUuuirv/KayVLDv7pEWT808sIQn7fosOF+zi4QTngFalwgZJg7HqwwX10QtX4psjUAgBXw4oT9GIrX34XdnlKD/Tjz6+mAWF3rDo+aZ1qAEHEhNKD2Sz1cakinTedHpklc9Jh1vhx6c9rXXf1Paajj7MTVHVoQH5rAzyv2hZUWD0MPJ2gQO6tRt2ms5wwtsMNwhq7wuPN4W+n+WIe3uEPeAvHMLT/O0Cm2hIbE6uE+pYfL3l6x/GhRPb2gZbHmDa3s/8obng2Tv69okNRp17rIrlHNfL3JXrOYjL6r14+Jm2+h4TFz5a0sO1Z+ivCMMsSO9X3x2ixnThkT6xjbCNVP7jppGCp+7r658RD0vrjvF7CIMnj7gdpOfS3KXNb1dIG6dqNxafz4eygyv936WdYBRvoXyftlKHCs5J57omXUpI6DGfbTr49YeX7Pz1QLqH9YehS+7oipIox5iDx1h3AH6osllUG3/Pjnway6VnHLqRFXcWxZcZfhmeWUx4G/NofeeuW4wLEQj0fGce+mqwrD236uCV1/GtgdiVge8mvK7I5B2UR97hxffDuZbRP8vOBdI8CDUD3kcpldg8PDJVSXY94lMtbdUnSTVesEu8cXCEPxu2MqfBs67NgwnwriIbavPp+1y6Y7bMAku45Ot5Eu6fqq+2lg0fFdShiqe62/zrTbq5lW1qLzb2XCeCRpjryXyxrmvU2uH/5sWQoOJVHpZ8dVfle/x/PArytz6loR7jQfqyDKQponBuO8kJXmIp+t7+t94Ocalcf8cyfu/vfiYusWCyO73Lj7L8utcZ7U6ZCuU7AMLExsf+T7Zpny9qVA+RHpUWDfZNjZZSPIvCYx4lx0u5re/nQJXNtY9Zj7eSy9zH2S65jbmfX6Zj4sHmbahOoXUU6z8jav3Mp99cN0y49MB72enW9sG7+Zx6OfxsG4m9xtqnj76W7WMyVVVAZNoe/y9/b+/KLiqZZQ+GKf5efRdAml5RKJY8Oqa918KZD3mpfHM4iFId43jwNVTox09/fFFTgWguR62WGFiTjoOKXHRKysx4lyx+OgFy8uMkzzeM0MP3h8lgxjIQJpI+Lq5PUyyiD7rpk+8rzh11mZdYlXTm35x5uR93o9Lz3Y/ptxCOVt6XhEjg0Rzizlwi5baVp6+1JGKI78PRbePzIN9PHi5SNLL+uYyjy2M8oXzKVYY5xzEOsMjJv/wMwOQxUy77tOgRSFO6fymSsekijImQU4zD/oAQC00Al22QrU5Xodpy5z67f8C9rAttTFVGUnf3UB5aapvCBS5wG1Tvzc435fxlvG0fzcPk9Z28gkwwvle7EwssqNHSfJWd853wv8vQc7V0X2JxRPd90C5UdeiOZcJ8xDp52I7zTt84+HbLnxDv0QUe/pC289L1e4rDBVH38zM4+x0OuAYPkwBcqV+51AGuZdt4l8MeoO97UvVGaL1BMlVF0GI3GUZdJ8X+6buY2yde2DlT13H8Xr7Hoimte5ZbGASBjBbTrr5p83ZFpnl9P5iDiw8GVcdNzi57pi5PfN49E9PrPLuP99rlwYi+PGQ6dhloWWQc09NnLDzq+v3X0NfUfsm7VOoA63uGHkx6P8vpUl46AbotO8KlC/xPhpx6lj2nxf7Mt038T3rPRz4uQQ6V9pWoBWYJiq7Erc6kXmgAjScwFcBbo5Ky/eUCcZ0NXfsS6e8TDkOGh/vh49PrpUF/c54qF5cxBVwOyGay1Od9rQOrpr8FLC8Lq262Xavdrt3pwuuvvwyoTxSNIceS+XNcz7qnhxSeNQNT6UYIfagxb1L6fzEfF9FXNRnJrv5QnUtZtNuvzcITramT+t+LACMSTqxj5HsLw/5vMp9dS8GXyOuV54Lhtvro8S+PCrmzOi9kudL5HhZnz4F4W3UTiMGDFnEx8mpr/PFzmsNVfJIRTeMaePtYpMvo6Ikhr9pF5LzryDBcoPnxOlf9Clho7nIo6VQZt23tfoJn1q+oRG/4pPZiauO8w54Vx6HhpzLiSeHuJJzXK5fMXSypnDy6LCKDsnbhV5b4fB6xj1gfCNRux17Vm8dgmXj1k4c5yxY3Bs1HVuXdvgw41SMp+TWlYs5Dw8Op/kUM8FzEdZYRkUQ6IicUzOfjfed+YYKlHXzmvuMijK/vS3QWgIbnbeL0OkfDnzReafN7bphD+9/aKR7kv54XcFsPB3Roes7tG/J+VxPDt1zZCem8pcd1R57RLiX++VvXbZaBxSK/1tGR52uJwy6OzLSznEXcuva/Pr68J+rhn5wsutOaeZe9yXP2+4xz2fyio6Zckcus0dMTdmOp/bd35lNgt/PtCpxC7HofYOq80k3t7B07XBp075XKYtCApTjXJxorWWt4aGl2iLNG+B9VpqTbp1WL0MCYYR+55q0Q3EUSzRuwmzxsMwY4t2uDUbAIDLu+u3DDPeKRN34Iz611oy7tDn1bUi3Kw7/BHqPBa8IxoK0707KsR6asg0ku+becb/jsfVv8sr8fcz79wawmFklZvsOAkiPew8fdhzVWR/AvHM3ncmt/xkl/fZhOJUIB/yFDgW8spSfr4uIj3yyTv2Zt6ax1jodUCwfJgC+eJ+J1gPGAJ5II5JI73c10HpNSTfrznLRVCFZVDVpaFjTOSbs6/We6EyG01jGeeideFC8PiK4yOQLwXyPuWWq1lEwghuM2d74jtZx31GHs8slM9puZ+dVVeI/Wb7FlwCeRXadokwloHHUxwDPK3cPBNxXXQZDJwD3LzMDTu/vvbPRf53ovumVHLe4Pj+iLjwOmiWNMvm76t6L2PfYvx91uS+2sew8166n4bAe3Ibyy/7T0l+zzjnTipfbs4S0ZrK/w73QhvKSVlDTzpV+BOT+B0Jc0JZWySMaK+BDWpe2vEcf+Z3jvmTndjfkaeJzByP1EQ8MAJPvQOAp4TfkY3eKeM9Hsy6mC39A95r4ob9HXtyU/55Q97xL4uFy+/ksnNW8KEUL+rsLGHfLZSTmzuT3atJ0Kua0Pkn3oXLdSefRlh0G8EwVO+w0NPh+J3kOp9A/aRM7y955zUzXx6CyLcunRs9OIadRnbPxdzyI5+OHqJ7IJTvmcnTnN8Jn/ZGkfH0J05Oeznk9uKRxwpl9aC65ROQxx8+xbe1k9MDRF4fhR8kskjfePcFo6eFjId6IWzQ7uuEBkfH8R5Vqnw0omnp9KLkvaN5mpYgeoSY9YRIc/W3sv0L72nQyC43ojcGK8v7bD9/juWpnNC8dG9YoboyKCfij/TcfVV3ns6rem3o3jxF69rHgvckoSu6vr1m/9ppVSTvl0GWLzvNxXk0ozdP+LxhEA92CWFh87IxS+/hzV2qJ+a5J/7bSfduyu2dp3papvta8Lqj+muXxeE9oOnTNQ3ZcUfOOXg5ZVD2Jpv2vlT5pl4JuXVtfn0tnqps9L4fdtxebfkqOW9w4rhv0/H+OY1ixxEfaVGkjAaIenLAwtff1T2GvYctqOPNGOVjUw+DCMZR7qv1hFbx0B2jvYPnm/VEbZa3/AnZZjlj+7nD46Z7M8NiqEa5UvwWXHkHy7yD4N5RkS2rxjpua2yBMLj0LkERgbsu88dDtiybnxeOj0PExds+AAAn66JQPbhwou606zmx6Poq9nnG3TO/7i5Q54s7rjnr5BB3U50wxOLd6TU/d+80yriG63rzbquZZ/zvaXr48fDvZvrnVluRMAR3f5wwM8OpIM2r4J2r1WLlgbuf7vk0d1/883nsnKzjM2taWGmes41QGXDzzIuHt69+2ciNQ156Lo1TN7D04HF3jz+vjHjxzaljrDRj6SX230g38TqrR4BTftj2v4SO4QJ5o9eJly+9rcB3C5q3DOrykXkMOPvqreuWMXd/vLRSSyg+SxA/7vPyPlC3iKVMD5NiYbjHgXucuHWHl+ZensTOdep4mrlecPYnkqc6vn4c3PTIT0uv3gjsa15YobpnefQ+h457Jz0WUgYZ75i2r22knLqWya6v7bjy9HbTXZSLzHqgqvOGXicjnVSazFwunHIYrlP1/oTjIeOYfT4QaZZuJ7CuEw97f/w81UvmOQBK+4H/o9rlHj9+5/LliA7T+QZWm7gz/alON9Z8BQAAHL8r1iDqxXogw3rh+X1Otc8PfAeS3/FtEvXX5DwLsBJw3AEAPAr4fQ7LVOABDo+HnDQWw0EBAGC9yIdD+MPGAGDdyaGF5R6UBgAAlRPDRqt4iAdAMavVM27NyDlb9IB2Pn8BxmQDPHmih8R07qIWesbBMqGHDsByiNEecv4lPidVcE5LWEv29X9A0kGvHFgolEGHce2N625YJjTGAQAAAAAAAAAALMlKDVMFAAAAAAAAAABYZWiMAwAAAAAAAAAAWBI0xgEAAAAAAAAAACwJGuMAAAAAAAAAAACWBI1xAAAAAAAAAAAAS1KwMW5Ip1tbtOUs+/2J+nw5+GOYt/Z7VNVWRXgF9iO83Qn19nk67FPvTr1l4o+sf8C0AgAAAAAAAACAx6dUz7hWb0zj8XS5bGyoT1bQXY+Oj4iSRL2OmtD1pwG13jYp3VvR0HZM9Lql3nAN6fRlm2o6vT53iI526PRWfQwAAAAAAAAAAE/Skx2mOvyjTXT2Ox3+rN6Iuf1A7UGL6i/Ua94j7mREh+NLaj5Tbzkm/XPqJh16o7+z2aTDA6Lu++p69QEAAAAAAAAAwOqpqDGOD2PlwzXt4axuTzA9LDRz6ObtqbVOaFjqNzOczlC9WwLbRuOiRYcFevYN/+pScvaGttVrog1qXp4Yr12yJ13yetfqSXd+wf4fjOibfAcAAAAAAAAAAJ6gUo1x3abRSMYWu7FtQO2X51T7LIdm3pwlbP1T0k1lvCFu56hG/XSYa59qRzt2gxxviGuOqKPCEMulMTyUG7SpMTqUn33uUHLRKDn8c0K9911q9bIa1BTRiJZQ/VX54bi1Z/I7ogHy5YgOeVxpRKPQ/HIAAAAAAAAAAPAkzDVn3Ek6dFNq9S6puSn/3mgcUittfFK9xaweZtv05iyhwadr1fNNNpIlZ7+nYQQlHbppq1A2d6meEI2+Fh/8OekfU5uMIaQZJn9f0eDgMDs+UfIBDzui4VA3/NWoNlNYAAAAAAAAAACwDhY8Z9yARt/5/99oNJj2FtM2ntWMoZvhdao1pA9HRJ1Tp7ddkFr319z+c0Hd5g6N3o5prBsOv49YagAAAAAAAAAAwFO2uMa4uxGNKKHaj/zFT1QL9GCbfB0RJTX2KRdep1K3V9QVw2mnQ20bF0SDox32N5/zTq3H8XWTOu2W7sm2Qbuv2Y6YD3BgxL4e1POHxgIAAAAAAAAAwNpaWGMcf1rpIG3Mkg1Ug6MP6RxyfD6246MBtd7qXmp6nWO7UaxKL06sYbZ86R8QJWc37O/pEFsxxJTPK5fGrZyNV3VKBm061vPh6X39BU1xAAAAAAAAAABP2VwPcHCfhmp+3qC+9fCFjcYl9Q+61NDff9mmWs+ed46vc3NGVs+10NNUF+7umq4GLapH5pUbdlTcml32atrTLn2QxGaTLj93iESPO/ZZYF8BAAAAAAAAAODp+eGeUX/PYUinWw2iNWlw4o1t57Ubumwscv46AAAAAAAAAAB4ahb8AIcVdNej84uE6q/QEAcAAAAAAAAAANVCY5yLDzG15o8DAAAAAAAAAACoRkXDVAEAAAAAAAAAACAPesYBAAAAAAAAAAAsCRrjAAAAAAAAAAAAlgSNcQAAAAAAAAAAAEuCxjgAAAAAAAAAAIAlQWPcA5r092lra0st+9S7Ux8AwNN1e2rUC1t0eqveBwAAAAAAgLVQsDFuSKfGj8PQD8Rhx/6cL/v9ifpUKfwjU2/vlP2VRa4XDicSxl2P9tX25eI3gnn70rFjYTeisWW/R86eFpd06GY8pvH4kpqb6j0AeLpenLD6gNcJfWqpt5bPr/P5out0rw40Frfe1+t654OK5NXXxWWddybU27e38xCNpHa6550fHzsnTWc4j+ZedxQ43/tlPbAOGsjX1HxlMFT+YuFY67qfFyhf9rZW/dgHAAAA4X4W/7y7f/783f0X9ZL78tvz+70//1OvAv738X7v+d79x/+p1yIM47WBh/V8b4+tb2/Dw8PY+3gf2mrRMP77cy8ahvTl/t3z5/fv/lEvPf/df9zL2feI/G0DwNOVV/csUvFti7r2t1gty+tHVs//Ga+rqzVjmqlz2kdeJ3vnjEAdn3H+WorAOXjV2OVGpnG8HIXlXnc4/HOuX17EOmbalrh2gdVSRRl0+fWhLGPRcN3y5JY3xi23Yhu4dgQAAFh5sw1T/bFGCY1oVGJY5fCPNg0ODqe9v168oU4yoPYfzv29ux6dX7Sof1pXb8RMqPe+S8nrXdpQ76QKh0G08axGNBjRN/Xa9xPVEqLR19j90g2q/cyDiIcAAPPI6gELj9rdNV1RnXYbdWoNruh64UPx8+rrEFa+3tfoZnxCu+od2zcaDYhqz4wzjTgHwszEOTqhzq/b6o0Nar5tEV2cL3S6Bu98f8euY1hO1n5UrxmxjqHwtQuslkWUQS9M3pv1nLoHfRq3p++Zhn91iczytdmkwwOzfA3pw9GAWm+b6bXu9q8dSgZt+oBzIgAAwEqbqTFu8vcVDRL2A6vwsMohXV0QtX4xLkZuP1Cb/cChf0dGd/0J9U7aRGdvKHzZYuA/8gYtOmy4TXElwmDkhVA9vq7YTkL1V16TnxLYNwCo0DadfO7QqLm4oY6wGOJc8XON/YjkjWQDuvo7lH9qmOA8w/21jPpaD/H0G3VZ+bqc/tD1bdObs4S6rPzJ78pzjNVA85g4Q95Cw3bd4XXecXXnDu8MDYubPd/8awh5c41oQKPv8p1F8M73uuHjpR6ayvap2aUkvX4oeu2yHG6+5Q9nLJm3ouzYeS3CM8oQf83DNIdMe9soUAa9ddJyJMuVG6bYnlfWHlcZFA23TpjXnwa514dJ7Sf1l/QTv6Ogy9ftFXWpRfUX4iNBbIf9X+6mAwAAADw2xRvjjAu4naMa9QM/XgZHO4ELK21691lc3PGeCL2WfZeaX+RSh373Gth88m51oBGtSBjGRWDj3w7deHcs2UWZnkfkZZtqPX8+t+kFb4NGZzd0YlwoVcGeG8hYnAvW0Dr6An0pYXgX9nqZzrvj/jhIF32BvjJhPJI0f2J5L7AfzZfjPtV4HZPuAywab4Ay80WXjWLMH6IbtPs6ocGn6wXkXX59Pa+NxiWNVYPw1tYOXb2+ifZ0eVD83NYcUeczn3OQLzfU+bdhNYbw41qc98Tncrm0zpesbhDpOP18PD7xz7XzEo20jKgDdmj0lsW1dK/GvOsOJud8v91m+9erUfslX6dBxPbbTo8C1y7LwPbj6pdpntyIBmK/4Swzb3laV5C3PM13PtXldthxQUfHRn3Nys9f9Wn47PPkomHXHV45ZUt6TSkbv+26wu8dVomKyqCkGm6tOPJetaz8kH2eM9OCN7wNjj4Y+Sj31ZLUSDbXyfP2ee2G+ge8CGJEBgAAwEpTw1XLEXNa5M+jNp3Tgs+ZwefAkHNnpHO88LkyrHWMMMU2YnPi6PDUy1SZMJTc+V/y5xGZdf4OzBkHUJY6Hld8vqxinPpsqYpv258jSXHr38BcSNWbb94nb74wTZwnVHqo89+D1t0iPn48g3nhrCv3MSsfZN7PmoZFiDiw8O30lnk3e3l3rzsCAud7Kz1UPk/3XV9ryDQJX7s8EPd4KnB8RY9VLVCu3O/41zt5dYXMl+ncfu7rAHdfAvGaV9VlUITjlQl1LJnvB8qgSFO+nljU3JX6O7qsOd/j3ykzXyIAAAA8PrPNGSeGdhB1/zLvyZrU3BvWnWM+FOScap+nd2onX0fif07Pq1Gkh5lc1x8iVCaMlJr/JTx8itPziFwZdy5tcv6OaudDQu8ovjy2MB5Jmj+xvLfJORpZ7UPn7tAoSHl5l+b78shhYLpHB7NZo9qChyEWqa/LY8eKGLqoekDzXpq8t0/pOZv8Y04fa9WY0Ohff8ibO8cr7+V3c0aqJxhf3CGo23TCn+R70Ujj6Q1DrAILf2d0aPTMknPzzS503eFwz/es/jnmPa50b0r+JGPe682aNyz72qWYKvLeCeOlHKqY+j5ir9kxFu0VGikfs9A9ygReXsbWdZdd7+/IYb2pwByMLjV8WOcTH148HTpcocrKYFbPvYQ6p8b7gWtO0TtT9xBkcanxSJhpzOqaHTGvpe71K/MSAAAAVpxqlCst766cfbdR3flz7shOw1B3tNM7g85ifS9257JMGKYCd0L1nUn10iPu4pa/axu+kwoAYYFeBmstr8fJIhXfdqhuz6yPo3VxRfLq6wzueUtQPeHstHjIvGFELxn/nBPMi8i6mvhO7vmt4n0N9eKa8TxqCuafxTnfO72NBCdu2dcuy6KOJzMebhqG0tQRPlYNgbLificvDD8PZNyn6eW+jkiPY36szVcugiosg/Fy55Q3IfSeya1bQnUNfy87rwEAAODxm61n3O0pNS4yHmqg7jabdzK3f+F3m415Q6wwNqh5ad4ZZAvveUAt6vO/zTle1Jxwb7zebyXCMEz6x9Qe2JPj2lSviNBTWwU9mXfGQyAAYD6iB52cn3E6t5Aj7WUXmmxe0j02oj19csPQvVNiPfd4naJ6pRnzdNnyw1h56kEK1pxQfBG9jtxeayo9Kum9F6+vdb6U7pG0uUv1xO4JLnphG3OJPRbyPGv26lLpkdGrSEwWn0X0aAyZI99Emg6ofaK/Gz+P5h6zWuC6w+Wd71/U2RWC3UtJTo4/7WGWfe2yLLLH1rRXm0ov9Urw0tTn7YvL6UXJj5nGhfy7qG8yommPWJnm6oWg5o+05pkL4D3I2NXe8f45q/djefoYyqCcGzNc7uS+dt8b8RMPAIldc/L9aTgjPLapzkeiGPMDDjtsnVIPUQMAAIDHqFhjHJ9sl1/w6KVJ1E+7y3PGBNp8eXlFdWNIh6CGf6QTgovJe8tPtC2GK0QbxvK5w7fkJMTmBMbq4i5d3AmdnX19zJN5A6wFdkyqScetOgUWzn2AQ+HhinzIXOjHomj86NJV6SF6MXn1dRHTOn3niLcadKkhwtKNpfxGjz1sc+eIZjp/zcc49zT5Ux/deDLsPGsPQZUN2GZ6uEPHvQcypQ3SelnEQ4p4mt6IxpYdsY0dav/cL3kezb/uyD/fyyc1k/EQiMYFv4FnrFPRtct8WDxZHKYPq+APG2BlUn0quWkqF+uYdfdFLMaNh/TpsvIzPoSTPyiijO02ixcfVqnC52Hwhw2Y/KHSbPEa1FSjHTskF9PwWUUZ5GVMNvD6T/aX+L72fzbyRFw/G+XLOt5k/eXGgQ9j7R/o4109pCPzCdAAAACwCn7g3ePU348fv2h5OaJD62J6dfEfCuLHAS6qAMAje0nwH2fVNoQAADx+uEYCAACAdTbbMNUHIoaPYDgoAAAAwPoSw47JfvgBAAAAwBpZqcY48cSpdRsOmg7nWOP5owCguHRagAbxwYgAAE+Grv/E1ATLHg4MAAAAsDyrNUwVAAAAAAAAAABgha1UzzgAAAAAAAAAAIBVhsY4AAAAAAAAAACAJUFjHAAAAAAAAAAAwJKgMQ4AAAAAAAAAAGBJ0BgHAAAAAAAAAACwJGiMAwAAAAAAAAAAWBI0xgEAAAAAAAAAACwJGuMAAAAAAAAAAACWguj/Ac5o1HC0LjiKAAAAAElFTkSuQmCC)"
      ],
      "metadata": {
        "id": "QV4nWiSOdnG6"
      }
    },
    {
      "cell_type": "markdown",
      "source": [
        "# Performance Metrics and Accuracy\n",
        "\n",
        "Perform binary prediction on test data set"
      ],
      "metadata": {
        "id": "AF7kYQzPdnG6"
      }
    },
    {
      "cell_type": "markdown",
      "source": [
        "**Confusion Matrix**"
      ],
      "metadata": {
        "id": "n_uCo8iDdnG6"
      }
    },
    {
      "cell_type": "code",
      "source": [
        "from sklearn.metrics import confusion_matrix"
      ],
      "metadata": {
        "id": "kSviKTEXbUS7"
      },
      "execution_count": null,
      "outputs": []
    },
    {
      "cell_type": "markdown",
      "source": [
        "**Accuracy Score**"
      ],
      "metadata": {
        "id": "OYOrXkFUdnHC"
      }
    },
    {
      "cell_type": "code",
      "source": [
        "from sklearn.metrics import accuracy_score"
      ],
      "metadata": {
        "id": "Jnn7prtWbYKd"
      },
      "execution_count": null,
      "outputs": []
    }
  ]
}